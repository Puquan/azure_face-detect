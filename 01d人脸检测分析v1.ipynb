{
 "cells": [
  {
   "cell_type": "markdown",
   "metadata": {},
   "source": [
    "# 检测和分析人脸\n",
    "\n",
    "计算机视觉解决方案通常需要人工智能 （AI） 解决方案才能检测、分析或识别人脸。或者例如，假设零售公司 Northwind Traders 已决定实施\"智能商店\"，其中 AI 服务监控商店以识别需要帮助的客户，并指示员工帮助他们。实现此目的的一个方法就是执行面部检测和分析 - 换句话说，确定图像中是否有任何人脸，如果是，则分析其特征。\n",
    "\n",
    "![A robot analyzing a face](./images/face_analysis.jpg)\n",
    "\n",
    "## 使用人脸认知服务检测人脸\n",
    "\n",
    "假设 Northwind 贸易商希望创建智能商店系统，该系统需要能够检测客户并分析他们的面部特征。在 Microsoft Azure 中，可以使用 **Face**，这是 Azure 认知服务的一部分。\n",
    "\n",
    "\n",
    "### 创建认知服务资源\n",
    "\n",
    "让我们从在 Azure 订阅中创建 **认知服务** 资源开始。\n",
    "\n",
    ">**注意**：如果您已经有一个认知服务资源，只需在 Azure 门户中打开其 **快速启动**页面，然后将其键和终结点复制到下面的单元格。否则，请按照以下步骤创建一个。\n",
    "\n",
    "\n",
    "1. 在另一个浏览器选项卡中，以 [https://portal.azure.cn](https://portal.azure.cn) 打开 Azure 门户，然后使用 Microsoft 帐户登录。\n",
    "2. 单击 **&#65291;创建资源**按钮，搜索 *认知服务*，并创建具有以下设置的 **认知服务**资源：\n",
    "    - **名称**： *输入唯一名称*。\n",
    "    - **订阅**： *您的 Azure 订阅*。\n",
    "    - **位置**： *选择任何可用的区域*：\n",
    "    - **定价层**： S0\n",
    "    - **资源组**： *创建具有唯一名称的资源组*。\n",
    "3. 等待部署完成。然后转到您的认知服务资源，在 **概述**页面上，单击链接以管理服务的键。您需要端点和键才能从客户端应用程序连接到认知服务资源。\n",
    "\n",
    "\n",
    "### 获取认知服务资源的关键和端点\n",
    "\n",
    "要使用认知服务资源，客户端应用程序需要其端点和身份验证密钥：\n",
    "\n",
    "1. 在 Azure 门户中，在认知服务资源的 **Keys 和端点** 页面上，复制资源中的 **Key1** 并将其粘贴到下面的代码中，替换 **YOUR_COG_KEY**** 。\n",
    "2. 复制资源中的 **终结点**并将其粘贴到下面的代码中，替换 **YOUR_COG_ENDPOINT**** 。\n",
    "3. 单击\"运行单元格\"<span>&#9655</span>按钮（在单元格左上角）运行单元格中的代码。"
   ]
  },
  {
   "cell_type": "code",
   "execution_count": null,
   "metadata": {
    "gather": {
     "logged": 1599693964655
    }
   },
   "outputs": [],
   "source": [
    "cog_key = 'YOUR_COG_KEY'\n",
    "cog_endpoint = 'YOUR_COG_ENDPOINT'\n",
    "\n",
    "print('终结点为：{} \\n密钥为： {}'.format(cog_endpoint, cog_key))"
   ]
  },
  {
   "cell_type": "markdown",
   "metadata": {},
   "source": [
    "<p hidden>\n",
    "cog_key = 'ee7d38218eae4f9e9c2bceaa60f13d75'\n",
    "cog_endpoint = 'https://test233.cognitiveservices.azure.cn/'    \n",
    "<p>"
   ]
  },
  {
   "cell_type": "markdown",
   "metadata": {},
   "source": [
    "若要在认知服务资源中使用人脸服务，需要安装 Azure 认知服务包。"
   ]
  },
  {
   "cell_type": "code",
   "execution_count": null,
   "metadata": {
    "tags": []
   },
   "outputs": [],
   "source": [
    "! pip install azure-cognitiveservices-vision-face"
   ]
  },
  {
   "cell_type": "markdown",
   "metadata": {},
   "source": [
    "现在，您已经安装了认知服务资源和 SDK 包，您可以使用 Face 服务来检测存储中的人脸。\n",
    "\n",
    "运行下面的代码单元格以查看示例。"
   ]
  },
  {
   "cell_type": "code",
   "execution_count": null,
   "metadata": {
    "gather": {
     "logged": 1599693970079
    }
   },
   "outputs": [],
   "source": [
    "from azure.cognitiveservices.vision.face import FaceClient\n",
    "from msrest.authentication import CognitiveServicesCredentials\n",
    "from python_code import faces\n",
    "import os\n",
    "%matplotlib inline\n",
    "\n",
    "# 创建人脸检测客户端\n",
    "face_client = FaceClient(cog_endpoint, CognitiveServicesCredentials(cog_key))\n",
    "\n",
    "# 打开图像\n",
    "image_path = os.path.join('data', 'face', 'store_cam2.jpg')\n",
    "image_stream = open(image_path, \"rb\")\n",
    "\n",
    "# 检测人脸\n",
    "detected_faces = face_client.face.detect_with_stream(image=image_stream)\n",
    "\n",
    "# 展示检测框\n",
    "faces.show_faces(image_path, detected_faces)"
   ]
  },
  {
   "cell_type": "markdown",
   "metadata": {},
   "source": [
    "## <font color='red'> 自由练习\n",
    "搜索人脸照片，比如：毕业照等，人脸比较多的照片进行尝试，上传到文件夹[data/face](../../notebooks/azure_face-detect/data/face)，对人脸检测功能进行测试。\n"
   ]
  },
  {
   "cell_type": "code",
   "execution_count": null,
   "metadata": {},
   "outputs": [],
   "source": [
    "from azure.cognitiveservices.vision.face import FaceClient\n",
    "from msrest.authentication import CognitiveServicesCredentials\n",
    "from python_code import faces\n",
    "import os\n",
    "%matplotlib inline\n",
    "\n",
    "# 创建人脸检测客户端\n",
    "face_client = FaceClient(cog_endpoint, CognitiveServicesCredentials(cog_key))\n",
    "\n",
    "# 打开图像\n",
    "image_path = os.path.join('data', 'face', ??)\n",
    "image_stream = open(image_path, \"rb\")\n",
    "\n",
    "# 检测人脸\n",
    "detected_faces = face_client.face.detect_with_stream(image=image_stream)\n",
    "\n",
    "# 展示检测框\n",
    "faces.show_faces(image_path, detected_faces)"
   ]
  },
  {
   "cell_type": "markdown",
   "metadata": {},
   "source": [
    "## 分配人脸id\n",
    "\n",
    "每个检测到的人脸都分配了一个唯一的 ID，因此您的应用程序可以识别检测到的每个脸。\n",
    "\n",
    "运行下面的单元格以查看更多购物者面孔的 ID。"
   ]
  },
  {
   "cell_type": "code",
   "execution_count": null,
   "metadata": {
    "gather": {
     "logged": 1599693970447
    }
   },
   "outputs": [],
   "source": [
    "# 打开图像\n",
    "image_path = os.path.join('data', 'face', 'store_cam3.jpg')\n",
    "image_stream = open(image_path, \"rb\")\n",
    "\n",
    "# 检测人脸\n",
    "detected_faces = face_client.face.detect_with_stream(image=image_stream)\n",
    "\n",
    "# 展示人脸\n",
    "faces.show_faces(image_path, detected_faces, show_id=True)"
   ]
  },
  {
   "cell_type": "markdown",
   "metadata": {},
   "source": [
    "## 分析面部属性\n",
    "\n",
    "人脸不仅仅是检测人脸。它还可以分析面部特征和表情，以表明年龄和情绪状态;例如，运行下面的代码来分析购物者的面部属性。"
   ]
  },
  {
   "cell_type": "code",
   "execution_count": null,
   "metadata": {
    "gather": {
     "logged": 1599693971321
    }
   },
   "outputs": [],
   "source": [
    "# 打开图像\n",
    "image_path = os.path.join('data', 'face', 'store_cam1.jpg')\n",
    "image_stream = open(image_path, \"rb\")\n",
    "\n",
    "# 检测人脸和指定的面部属性\n",
    "attributes = ['age', 'emotion']\n",
    "detected_faces = face_client.face.detect_with_stream(image=image_stream, return_face_attributes=attributes)\n",
    "\n",
    "# 展示脸和面部属性\n",
    "faces.show_face_attributes(image_path, detected_faces)"
   ]
  },
  {
   "cell_type": "markdown",
   "metadata": {},
   "source": [
    "根据图像中为顾客检测到的情绪评分，客户似乎对购物体验很满意。\n",
    "\n",
    "## 查找相似的脸\n",
    "\n",
    "为每个检测到的面创建的人脸 ID 用于单独识别人脸检测。您可以使用这些 ID 将检测到的脸与以前检测到的脸进行比较，并查找具有类似特征的脸。\n",
    "\n",
    "例如，运行下面的单元格以将一张图片中的购物者与另一张图片中的购物者进行比较，并找到匹配的脸。"
   ]
  },
  {
   "cell_type": "code",
   "execution_count": null,
   "metadata": {
    "gather": {
     "logged": 1599693972555
    }
   },
   "outputs": [],
   "source": [
    "# 在第一张图中得到第一张脸的id\n",
    "image_1_path = os.path.join('data', 'face', 'store_cam3.jpg')\n",
    "image_1_stream = open(image_1_path, \"rb\")\n",
    "image_1_faces = face_client.face.detect_with_stream(image=image_1_stream)\n",
    "face_1 = image_1_faces[0]"
   ]
  },
  {
   "cell_type": "code",
   "execution_count": null,
   "metadata": {
    "gather": {
     "logged": 1599693972555
    }
   },
   "outputs": [],
   "source": [
    "# 在第二张图中获得所有的脸id\n",
    "image_2_path = os.path.join('data', 'face', 'store_cam2.jpg')\n",
    "image_2_stream = open(image_2_path, \"rb\")\n",
    "image_2_faces = face_client.face.detect_with_stream(image=image_2_stream)\n",
    "image_2_face_ids = list(map(lambda face: face.face_id, image_2_faces))\n",
    "print(image_2_face_ids)"
   ]
  },
  {
   "cell_type": "code",
   "execution_count": null,
   "metadata": {
    "gather": {
     "logged": 1599693972555
    }
   },
   "outputs": [],
   "source": [
    "# 查找图像 2 中与图像 1 中的相似的脸\n",
    "similar_faces = face_client.face.find_similar(face_id=face_1.face_id, face_ids=image_2_face_ids)\n",
    "\n",
    "# 在图像 1 中显示脸，在图像 2 中显示相似的脸\n",
    "faces.show_similar_faces(image_1_path, face_1, image_2_path, image_2_faces, similar_faces)"
   ]
  },
  {
   "cell_type": "markdown",
   "metadata": {},
   "source": [
    "## <font color='red'>自由练习"
   ]
  },
  {
   "cell_type": "markdown",
   "metadata": {},
   "source": [
    "在[data/face](../../notebooks/azure_face-detect/data/face) 文件夹下，有周杰伦和他的妻子昆凌的照片。 "
   ]
  },
  {
   "cell_type": "markdown",
   "metadata": {},
   "source": [
    "[jay_chou1.jpg](../../notebooks/azure_face-detect/data/face/jay_chou1.jpg)\n",
    "<br>\n",
    "[jay_chou2.jpg](../../notebooks/azure_face-detect/data/face/jay_chou2.jpg)\n",
    "<br>\n",
    "[jay_chou3.jpg](../../notebooks/azure_face-detect/data/face/jay_chou3.jpg)\n",
    "<br>\n",
    "[jay_chou4.jpg](../../notebooks/azure_face-detect/data/face/jay_chou4.jpg)\n",
    "<br>\n",
    "[jay_chou5.jpg](../../notebooks/azure_face-detect/data/face/jay_chou5.jpg)"
   ]
  },
  {
   "cell_type": "markdown",
   "metadata": {},
   "source": [
    "#### <font color='red'> 任务要求:"
   ]
  },
  {
   "cell_type": "markdown",
   "metadata": {},
   "source": [
    "在下面的练习中利用`jay_chou1.jpg`，为人脸基础，分别匹配出各个照片中，周杰伦和昆凌的人脸。"
   ]
  },
  {
   "cell_type": "markdown",
   "metadata": {},
   "source": [
    "结果示范：\n",
    "<img style=\"float: left;\" width = \"650\" height = \"300\" src=./images/example1.png>"
   ]
  },
  {
   "cell_type": "markdown",
   "metadata": {},
   "source": [
    "<img style=\"float: left;\" width = \"650\" height = \"300\" src=./images/example2.png>"
   ]
  },
  {
   "cell_type": "code",
   "execution_count": null,
   "metadata": {},
   "outputs": [],
   "source": [
    "# 在第一张图中得到一张脸的id\n",
    "\n",
    "\n",
    "# 在第二张图中获得所有的脸id\n",
    "\n",
    "\n",
    "# 查找图像 2 中与图像 1 中的相似的脸\n",
    "\n",
    "\n",
    "# 在图像 1 中显示脸，在图像 2 中显示相似的脸"
   ]
  },
  {
   "cell_type": "markdown",
   "metadata": {},
   "source": [
    "## 识别人脸\n",
    "\n",
    "到目前为止，您已经看到 Face 可以检测人脸和面部特征，并可以识别两个彼此相似的面。通过增加一个 *面部识别* 解决方案，您可以更进一步，在解决方案中，您可以训练 Face 识别特定人的脸部。这在各种情况下都很有用，例如在社交媒体应用程序中自动标记好友的照片，或使用面部识别作为生物识别验证系统的一部分。\n",
    "\n",
    "为了了解其工作原理，假设 Northwind 贸易商公司希望使用面部识别来确保只有 IT 部门的授权员工才能访问安全系统。\n",
    "\n",
    "我们将首先创建一个 *人员组*来代表授权员工。"
   ]
  },
  {
   "cell_type": "code",
   "execution_count": null,
   "metadata": {
    "gather": {
     "logged": 1599693973492
    }
   },
   "outputs": [],
   "source": [
    "group_id = 'employee_group_id'\n",
    "try:\n",
    "    # 删除组（如果已存在）\n",
    "    face_client.person_group.delete(group_id)\n",
    "except Exception as ex:\n",
    "    print(ex.message)\n",
    "finally:\n",
    "    face_client.person_group.create(group_id, 'employees')\n",
    "    print ('组别创建完成')"
   ]
  },
  {
   "cell_type": "markdown",
   "metadata": {},
   "source": [
    "现在，*人组*存在，我们可以为每个员工添加一个*员工*，我们希望包括在组中，然后注册每个人多张照片，以便 Face 可以了解每个人独特的面部特征。理想情况下，图像应该显示同一个人在不同的姿势和不同的面部表情。\n",
    "\n",
    "我们将添加一位名为温德尔的员工，并注册该员工的三张照片。"
   ]
  },
  {
   "cell_type": "code",
   "execution_count": null,
   "metadata": {
    "gather": {
     "logged": 1599693976898
    }
   },
   "outputs": [],
   "source": [
    "import matplotlib.pyplot as plt\n",
    "from PIL import Image\n",
    "import os\n",
    "%matplotlib inline\n",
    "\n",
    "# # 向组添加人员 （wendell）\n",
    "wendell = face_client.person_group_person.create(group_id, 'Wendell')\n",
    "\n",
    "# 获取Wendell的照片 \n",
    "folder = os.path.join('data', 'face', 'wendell')\n",
    "wendell_pics = os.listdir(folder)\n",
    "\n",
    "# 注册照片\n",
    "i = 0\n",
    "fig = plt.figure(figsize=(8, 8))\n",
    "for pic in wendell_pics:\n",
    "   # 将每张照片添加到个人组中\n",
    "    img_path = os.path.join(folder, pic)\n",
    "    img_stream = open(img_path, \"rb\")\n",
    "    face_client.person_group_person.add_face_from_stream(group_id, wendell.person_id, img_stream)\n",
    "\n",
    "    # 显示每个图像\n",
    "    img = Image.open(img_path)\n",
    "    i +=1\n",
    "    a=fig.add_subplot(1,len(wendell_pics), i)\n",
    "    a.axis('off')\n",
    "    imgplot = plt.imshow(img)\n",
    "plt.show()"
   ]
  },
  {
   "cell_type": "markdown",
   "metadata": {},
   "source": [
    "随着人员添加和照片的注册，我们现在可以训练脸识别每个人。"
   ]
  },
  {
   "cell_type": "code",
   "execution_count": null,
   "metadata": {
    "gather": {
     "logged": 1599693977046
    }
   },
   "outputs": [],
   "source": [
    "face_client.person_group.train(group_id)\n",
    "print(group_id)\n",
    "print('训练完成')\n"
   ]
  },
  {
   "cell_type": "markdown",
   "metadata": {},
   "source": [
    "现在，经过模型训练，您可以使用它来识别图像中识别的脸。"
   ]
  },
  {
   "cell_type": "code",
   "execution_count": null,
   "metadata": {
    "gather": {
     "logged": 1599693994820
    }
   },
   "outputs": [],
   "source": [
    "# 获取第二个图像中的面部 ID\n",
    "image_path = os.path.join('data', 'face', 'employees.jpg')\n",
    "image_stream = open(image_path, \"rb\")\n",
    "image_faces = face_client.face.detect_with_stream(image=image_stream)\n",
    "image_face_ids = list(map(lambda face: face.face_id, image_faces))\n",
    "\n",
    "# 获取识别的面部名称\n",
    "face_names = {}\n",
    "recognized_faces = face_client.face.identify(image_face_ids, group_id)\n",
    "for face in recognized_faces:\n",
    "    if face.candidates:\n",
    "        person_name = face_client.person_group_person.get(group_id, face.candidates[0].person_id).name\n",
    "        face_names[face.face_id] = person_name\n",
    "\n",
    "# 显示识别的面孔\n",
    "faces.show_recognized_faces(image_path, image_faces, face_names)\n",
    "\n"
   ]
  },
  {
   "cell_type": "markdown",
   "metadata": {},
   "source": [
    "## <font color='red'>自由练习"
   ]
  },
  {
   "cell_type": "markdown",
   "metadata": {},
   "source": [
    "请自己新建一个组别，可以是任意名称，并往组别里面添加人员，周杰伦和他的妻子昆凌的照片，进行训练，然后对照片进行测试，看看模型是否能识别他们的人脸信息。"
   ]
  },
  {
   "cell_type": "markdown",
   "metadata": {},
   "source": [
    "<font color='red'>也可以上传自己的照片进行训练，看看能否被正确识别。"
   ]
  },
  {
   "cell_type": "markdown",
   "metadata": {},
   "source": [
    "周杰伦的训练照片文件夹为：[data/face/jay_chou](../../notebooks/azure_face-detect/data/face/jay_chou)"
   ]
  },
  {
   "cell_type": "markdown",
   "metadata": {},
   "source": [
    "昆凌的训练照片文件夹为：[data/face/quinlivan](../../notebooks/azure_face-detect/data/face/quinlivan)\n"
   ]
  },
  {
   "cell_type": "markdown",
   "metadata": {},
   "source": [
    "结果示范：\n",
    "<img style=\"float: left;\" width = \"750\" height = \"300\" src=./images/example3.png>"
   ]
  },
  {
   "cell_type": "code",
   "execution_count": null,
   "metadata": {},
   "outputs": [],
   "source": [
    "# 请自定义你的新组别\n",
    "\n",
    "group_id = ??\n",
    "try:\n",
    "    # 删除组（如果已存在）\n",
    "    face_client.person_group.delete(group_id)\n",
    "except Exception as ex:\n",
    "    print(ex.message)\n",
    "finally:\n",
    "    face_client.person_group.create(group_id, ??) # 声明组别里的类型\n",
    "    print ('组别创建完成')"
   ]
  },
  {
   "cell_type": "code",
   "execution_count": null,
   "metadata": {},
   "outputs": [],
   "source": [
    "import matplotlib.pyplot as plt\n",
    "from PIL import Image\n",
    "import os\n",
    "%matplotlib inline\n",
    "\n",
    "# # 向歌手组添加人员 jay_chou 或者 Quinlivan\n",
    "jay_chou = face_client.person_group_person.create(group_id, ??)\n",
    "\n",
    "# 获取周杰伦或者昆凌的照片 \n",
    "folder = os.path.join('data', 'face', ??)\n",
    "jay_chou_pics = os.listdir(folder)\n",
    "\n",
    "# 注册照片\n",
    "i = 0\n",
    "fig = plt.figure(figsize=(8, 8))\n",
    "for pic in jay_chou_pics:\n",
    "   # 将每张照片添加到个人组中\n",
    "    img_path = os.path.join(folder, pic)\n",
    "    img_stream = open(img_path, \"rb\")\n",
    "    face_client.person_group_person.add_face_from_stream(group_id, jay_chou.person_id, img_stream)\n",
    "\n",
    "    # 显示每个图像\n",
    "    img = Image.open(img_path)\n",
    "    i +=1\n",
    "    a=fig.add_subplot(1,len(jay_chou_pics), i)\n",
    "    a.axis('off')\n",
    "    imgplot = plt.imshow(img)\n",
    "plt.show()"
   ]
  },
  {
   "cell_type": "code",
   "execution_count": null,
   "metadata": {},
   "outputs": [],
   "source": [
    "face_client.person_group.train(group_id)\n",
    "print(group_id)\n",
    "print('训练完成')"
   ]
  },
  {
   "cell_type": "code",
   "execution_count": null,
   "metadata": {},
   "outputs": [],
   "source": [
    "# 获取第二个图像中的面部 ID\n",
    "image_path = os.path.join('data', 'face', 'jay_chou1.jpg') # 可以修改成别的图片来看看别的效果\n",
    "image_stream = open(image_path, \"rb\")\n",
    "image_faces = face_client.face.detect_with_stream(image=image_stream)\n",
    "image_face_ids = list(map(lambda face: face.face_id, image_faces))\n",
    "\n",
    "# 获取识别的面部名称\n",
    "face_names = {}\n",
    "recognized_faces = face_client.face.identify(image_face_ids, group_id)\n",
    "\n",
    "\n",
    "for face in recognized_faces:\n",
    "    if face.candidates:\n",
    "        person_name = face_client.person_group_person.get(group_id, face.candidates[0].person_id).name\n",
    "        face_names[face.face_id] = person_name\n",
    "\n",
    "# 显示识别的面孔\n",
    "faces.show_recognized_faces(image_path, image_faces, face_names)\n"
   ]
  },
  {
   "cell_type": "code",
   "execution_count": null,
   "metadata": {},
   "outputs": [],
   "source": []
  }
 ],
 "metadata": {
  "kernel_info": {
   "name": "python3-azureml"
  },
  "kernelspec": {
   "display_name": "Python 3",
   "language": "python",
   "name": "python3"
  },
  "language_info": {
   "codemirror_mode": {
    "name": "ipython",
    "version": 3
   },
   "file_extension": ".py",
   "mimetype": "text/x-python",
   "name": "python",
   "nbconvert_exporter": "python",
   "pygments_lexer": "ipython3",
   "version": "3.7.3"
  },
  "nteract": {
   "version": "nteract-front-end@1.0.0"
  }
 },
 "nbformat": 4,
 "nbformat_minor": 2
}
